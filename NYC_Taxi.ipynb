{
 "cells": [
  {
   "cell_type": "code",
   "execution_count": 55,
   "metadata": {
    "collapsed": true
   },
   "outputs": [],
   "source": [
    "# please read README file before start\n",
    "#"
   ]
  },
  {
   "cell_type": "code",
   "execution_count": 1,
   "metadata": {
    "collapsed": true
   },
   "outputs": [],
   "source": [
    "import numpy as np \n",
    "import pandas as pd \n",
    "import matplotlib.pyplot as plt \n",
    "%matplotlib inline \n",
    "\n",
    "import gmplot\n",
    "\n",
    "from sklearn.ensemble import RandomForestRegressor\n",
    "from sklearn.linear_model import Lasso \n",
    "from sklearn.linear_model import LinearRegression\n",
    "from sklearn.model_selection import train_test_split\n",
    "from sklearn.preprocessing import OneHotEncoder\n",
    "from sklearn.preprocessing import LabelEncoder\n",
    "from sklearn.metrics import mean_squared_error\n",
    "from sklearn.model_selection import cross_val_score\n",
    "from sklearn.ensemble import AdaBoostRegressor\n",
    "\n",
    "import scipy.stats as stat\n",
    "from IPython.core.display import HTML,display\n",
    "import webbrowser,os"
   ]
  },
  {
   "cell_type": "code",
   "execution_count": 2,
   "metadata": {
    "collapsed": true
   },
   "outputs": [],
   "source": [
    "# function of data clean and engineer\n",
    "\n",
    "def clean_data(df_input):\n",
    "    '''\n",
    "    clean the data : remove NaN value \n",
    "    \n",
    "    1, remove columns 'Ehail_fee' since it's all NaN value\n",
    "    2, replace NaN value in column 'Trip_type' by most frequent value 1.0\n",
    "    '''\n",
    "    df_input=df_input.drop(['Ehail_fee'],axis=1)\n",
    "    df_input['Trip_type ']=df_input['Trip_type '].fillna(value=1.0)\n",
    "    \n",
    "    return df_input\n",
    "\n",
    "def feature_eng(df_input):\n",
    "    '''\n",
    "    feature engineer for Question 4:\n",
    "    1, convert object column 'Store_and_fwd_flag' column into number;\n",
    "    2, convert pickup/drop date into datetime type\n",
    "    3, create new feature tip/total fare, the weekday of pick up and hours of pickup and total time used for travel\n",
    "    '''\n",
    "    Lb=LabelEncoder()\n",
    "    df_input['Store_and_fwd_flag_label_label']=Lb.fit_transform(df['Store_and_fwd_flag'])\n",
    "    \n",
    "    df_input['pickup_hour']=pd.to_datetime(df_input['lpep_pickup_datetime']).apply(lambda x: x.hour)\n",
    "    df_input['pickup_weekday']=pd.to_datetime(df_input['lpep_pickup_datetime']).apply(lambda x: x.weekday())\n",
    "\n",
    "    df_input['tip_over_fare(%)']=list(map(lambda x : x[0]/x[1]*100 if x[1]!=0.0 else 0.0, df_input[['Tip_amount','Total_amount']].values))\n",
    "    \n",
    "    df_output=df_input.drop(['lpep_pickup_datetime','Lpep_dropoff_datetime','Store_and_fwd_flag'],axis=1)\n",
    "    \n",
    "    \n",
    "    \n",
    "    return df_output\n",
    "\n",
    "\n",
    "\n",
    "def speed_feature(df_input):\n",
    "    '''\n",
    "    Create the feature speed, weeks of month and hour of day\n",
    "    \n",
    "    '''\n",
    "    \n",
    "    dropoff_time=pd.to_datetime(df_input['Lpep_dropoff_datetime'])\n",
    "    pickup_time=pd.to_datetime(df_input['lpep_pickup_datetime'])\n",
    "    df_input['trip_time']=list(map(lambda x,y: x-y,dropoff_time,pickup_time))\n",
    "    df_input['trip_time_seconds']=df_input['trip_time'].apply(lambda x:x.total_seconds())\n",
    "    df_input['speed']=list(map(lambda x : x[0]/x[1] if x[1]!=0.0 else 0.0, df_input[['Trip_distance','trip_time_seconds']].values))\n",
    "    \n",
    "    df_input['week_of_month']=pd.to_datetime(df_input['lpep_pickup_datetime']).apply(lambda x:x.week)\n",
    "    df_input['day_of_month']=pd.to_datetime(df_input['lpep_pickup_datetime']).apply(lambda x:x.day)\n",
    "    \n",
    "    df_output=df_input.drop(['trip_time','trip_time_seconds'],axis=1)\n",
    "    \n",
    "    return df_output"
   ]
  },
  {
   "cell_type": "code",
   "execution_count": 3,
   "metadata": {
    "collapsed": true
   },
   "outputs": [],
   "source": [
    "# function of plot \n",
    "def plot_location_google_map(df_jfk,outfile):\n",
    "    '''\n",
    "    plot location of pickup on google map\n",
    "    \n",
    "    The input dataframe must contain pickup and drop off coordiante\n",
    "    \n",
    "    '''\n",
    "    \n",
    "    JFK_coord=[40.6413,-73.7781]\n",
    "    \n",
    "    # Check the location of pick_up for Trip terminated at JFK airport \n",
    "    jfk_plot=gmplot.GoogleMapPlotter(JFK_coord[0],JFK_coord[1],10)\n",
    "    if df_jfk.shape[0]<10000:\n",
    "        jfk_plot.scatter(np.array(df_jfk.Pickup_latitude),np.array(df_jfk.Pickup_longitude),'# FF0000',\n",
    "                     size = 20, marker = False)\n",
    "    else:\n",
    "        jfk_plot.heatmap(np.array(df_jfk.Pickup_latitude),np.array(df_jfk.Pickup_longitude))\n",
    "\n",
    "    #s save plot on disk\n",
    "    outpath='map_jfk_{}.html'.format(outfile)\n",
    "    jfk_plot.draw(outpath)\n",
    "\n",
    "    # Open the plot at default browser\n",
    "    webbrowser.open('map_jfk_{}.html'.format(outfile),new=2)\n",
    "    \n",
    "def plot_trip_payment_type(df_jfk):\n",
    "    plot_column = ['Payment_type','Trip_type ']\n",
    "\n",
    "    plt.figure(figsize=(12,4))\n",
    "    for i, column in enumerate(plot_column):\n",
    "        Value_count=df_jfk[column].value_counts()\n",
    "        label=Value_count.index\n",
    "        label=list(map(lambda x: 'Type '+str(x),label))\n",
    "\n",
    "        count=Value_count.values  \n",
    "\n",
    "        plt.subplot(1,2,i+1)\n",
    "        plt.pie(count,labels=label,autopct='%1.1f%%');\n",
    "        plt.title(column)\n",
    "\n",
    "def plot_trip_distance(trip_distance):\n",
    "    '''\n",
    "    plot histogram of trip_distance \n",
    "    \n",
    "    '''\n",
    "    plt.figure(figsize=(18,6))\n",
    "    plt.subplot(121)\n",
    "    plt.hist(trip_distance,bins=300);\n",
    "    plt.xlabel('Trip_distance')\n",
    "    plt.ylabel('Counts')\n",
    "    plt.title('Plot of Trip_distance of all')\n",
    "\n",
    "    plt.subplot(122)\n",
    "    plt.hist(trip_distance,bins=300,range=(0,30));\n",
    "    plt.xlabel('Trip_distance')\n",
    "    plt.ylabel('Counts')\n",
    "    plt.title('Plot of Trip_distrance between 0~30')\n",
    "\n",
    "def passenger_count_plot(df_jfk):\n",
    "    jfk_pass_count=df_jfk.groupby('Passenger_count').count()\n",
    "    jfk_pass_mean=df_jfk.groupby('Passenger_count').mean()\n",
    "\n",
    "    print('The count of passenger_count is 8 is {}'.format(jfk_pass_count[jfk_pass_count.index==8]['Trip_distance'].values))\n",
    "\n",
    "    print('---------------------------------------------')\n",
    "\n",
    "    plt.figure(figsize=(9,3))\n",
    "    plt.subplot(121)\n",
    "    plt.bar(jfk_pass_count.index,jfk_pass_count['Trip_distance']);\n",
    "    plt.xlabel('Passenger_count')\n",
    "    plt.ylabel('number')\n",
    "    plt.title('bar plot')\n",
    "\n",
    "    plt.subplot(122)\n",
    "    plt.scatter(jfk_pass_count.index,jfk_pass_mean['Trip_distance']);\n",
    "    plt.xlabel('Passenger_count')\n",
    "    plt.ylabel('Average trip distance')\n",
    "    plt.title(' averaged trip distance for each passenger_count');\n",
    "    \n",
    "def plot_speed_time_location(df_input):\n",
    "    \n",
    "    speed_slow=df_input[df_input['speed']<7/3600]\n",
    "    speed_medium=df_input[(df_input['speed']>7/3600) & (df_input['speed']<=20/3600)]\n",
    "    speed_fast=df_input[df_input['speed']>20/3600]\n",
    "\n",
    "    variable=['Pickup_latitude','Pickup_longitude','Dropoff_latitude','Dropoff_longitude','pickup_hour']\n",
    "    plt.figure(figsize=(20,12))\n",
    "    for i,string in enumerate(variable):\n",
    "              \n",
    "\n",
    "        x=[speed_slow[string],speed_medium[string],speed_fast[string]]\n",
    "        labels=['slow speed','medium speed','fast speed']\n",
    "        colors=['red','yellow','blue']\n",
    "        if string!='pickup_hour':\n",
    "            min_r=df_input[string].median()-0.3;\n",
    "            max_r=df_input[string].median()+0.3;\n",
    "        else:\n",
    "            min_r=df_input[string].min()-0.3;\n",
    "            max_r=df_input[string].max()+0.3  ;          \n",
    "        plt.subplot(3,2,i+1)\n",
    "        plt.hist(x,bins=20,range=(min_r,max_r),label=labels,color=colors);\n",
    "        plt.xlabel(string,size=14)\n",
    "        plt.ylabel('count')\n",
    "        plt.legend()\n"
   ]
  },
  {
   "cell_type": "code",
   "execution_count": 4,
   "metadata": {
    "collapsed": true
   },
   "outputs": [],
   "source": [
    "# function of model \n",
    "def linear_model(x,y):\n",
    "    '''\n",
    "    linear regression model from sklean package\n",
    "    ''' \n",
    "    global train_x,train_y,test_x,test_y\n",
    "    \n",
    "    LR=LinearRegression()\n",
    "    LR.fit(train_x,train_y)\n",
    "\n",
    "    y_pre_LR=LR.predict(test_x)    # prediction from linear regression \n",
    "\n",
    "    score_lr=cross_val_score(LR,x,y,cv=5,scoring='neg_mean_squared_error')\n",
    "\n",
    "    print('Score of 5 fold cross validation of linear regression model {}'.format(score_lr))\n",
    "    \n",
    "    return y_pre_LR\n",
    "    \n",
    "def lasso_model(x,y):\n",
    "    '''\n",
    "    Lasso regression model from sklean package\n",
    "    '''\n",
    "    # Lasso \n",
    "    global train_x,train_y,test_x,test_y\n",
    "    \n",
    "    ls=Lasso(alpha=0.7)\n",
    "    ls.fit(train_x,train_y)\n",
    "    score_ls=cross_val_score(ls,x,y,cv=5,scoring='neg_mean_squared_error')\n",
    "    print('Score of 5 fold cross validation of Lasso regression model {}'.format(score_ls))\n",
    "\n",
    "    \n",
    "def Randomforest_model(x,y,cvn):\n",
    "    '''\n",
    "    Randomforest regression model from sklean package\n",
    "    \n",
    "    '''\n",
    "    global train_x,train_y,test_x,test_y\n",
    "    \n",
    "    # Random forest regressor model \n",
    "    RF=RandomForestRegressor(n_estimators=10,criterion='mse')\n",
    "    RF.fit(train_x,train_y.ravel())\n",
    "    y_pre_rf=RF.predict(test_x)    # prediction from randomforest regression \n",
    "\n",
    "\n",
    "    score_rf=cross_val_score(RF,x,y.ravel(),cv=cvn,scoring='neg_mean_squared_error')\n",
    "    print('Score of {} fold of cross validation of Randomforest regression model {}'.format(cvn,score_rf))\n",
    "    \n",
    "    return y_pre_rf, RF"
   ]
  },
  {
   "cell_type": "code",
   "execution_count": 5,
   "metadata": {
    "collapsed": true
   },
   "outputs": [],
   "source": [
    "# function of test \n",
    "\n",
    "def mean_test(week1,week2,week3,week4,week5,p_value):\n",
    "    '''\n",
    "    # The hypothesis H0: the mean of all weeks are same\n",
    "    # test:    one-way ANOVA \n",
    "    '''\n",
    "\n",
    "    Hypothesis='H0: the mean of all weeks are same'\n",
    "    oneway_ANOVA=stat.f_oneway(week1,week2,week3,week4,week5)\n",
    "    p_value=0.05\n",
    "    if oneway_ANOVA[1]>p_value:\n",
    "        print('Reject the hypothesis: {}'.format(Hypothesis))\n",
    "    else:\n",
    "        print('Accept the hypothesis: {}'.format(Hypothesis))"
   ]
  },
  {
   "cell_type": "code",
   "execution_count": null,
   "metadata": {
    "collapsed": true
   },
   "outputs": [],
   "source": []
  },
  {
   "cell_type": "markdown",
   "metadata": {},
   "source": [
    "## Question 1: \n",
    "•             Programmatically download and load into your favorite analytical tool the trip data for September 2015.\n",
    "\n",
    "•             Report how many rows and columns of data you have loaded."
   ]
  },
  {
   "cell_type": "code",
   "execution_count": 6,
   "metadata": {},
   "outputs": [
    {
     "name": "stdout",
     "output_type": "stream",
     "text": [
      "The command of download data is \"wget https://s3.amazonaws.com/nyc-tlc/trip+data/green_tripdata_2015-09.csv\"\n"
     ]
    }
   ],
   "source": [
    "#os.system('wget https://s3.amazonaws.com/nyc-tlc/trip+data/green_tripdata_2015-09.csv')\n",
    "\n",
    "download_command='wget https://s3.amazonaws.com/nyc-tlc/trip+data/green_tripdata_2015-09.csv'\n",
    "\n",
    "print('The command of download data is \"{}\"'.format(download_command))"
   ]
  },
  {
   "cell_type": "code",
   "execution_count": 7,
   "metadata": {
    "collapsed": true
   },
   "outputs": [],
   "source": [
    "# download data with wget command : \n",
    "df=pd.read_csv('green_tripdata_2015-09.csv')\n"
   ]
  },
  {
   "cell_type": "code",
   "execution_count": 8,
   "metadata": {},
   "outputs": [
    {
     "data": {
      "text/html": [
       "<div>\n",
       "<table border=\"1\" class=\"dataframe\">\n",
       "  <thead>\n",
       "    <tr style=\"text-align: right;\">\n",
       "      <th></th>\n",
       "      <th>VendorID</th>\n",
       "      <th>lpep_pickup_datetime</th>\n",
       "      <th>Lpep_dropoff_datetime</th>\n",
       "      <th>Store_and_fwd_flag</th>\n",
       "      <th>RateCodeID</th>\n",
       "      <th>Pickup_longitude</th>\n",
       "      <th>Pickup_latitude</th>\n",
       "      <th>Dropoff_longitude</th>\n",
       "      <th>Dropoff_latitude</th>\n",
       "      <th>Passenger_count</th>\n",
       "      <th>...</th>\n",
       "      <th>Fare_amount</th>\n",
       "      <th>Extra</th>\n",
       "      <th>MTA_tax</th>\n",
       "      <th>Tip_amount</th>\n",
       "      <th>Tolls_amount</th>\n",
       "      <th>Ehail_fee</th>\n",
       "      <th>improvement_surcharge</th>\n",
       "      <th>Total_amount</th>\n",
       "      <th>Payment_type</th>\n",
       "      <th>Trip_type</th>\n",
       "    </tr>\n",
       "  </thead>\n",
       "  <tbody>\n",
       "    <tr>\n",
       "      <th>0</th>\n",
       "      <td>2</td>\n",
       "      <td>2015-09-01 00:02:34</td>\n",
       "      <td>2015-09-01 00:02:38</td>\n",
       "      <td>N</td>\n",
       "      <td>5</td>\n",
       "      <td>-73.979485</td>\n",
       "      <td>40.684956</td>\n",
       "      <td>-73.979431</td>\n",
       "      <td>40.685020</td>\n",
       "      <td>1</td>\n",
       "      <td>...</td>\n",
       "      <td>7.8</td>\n",
       "      <td>0.0</td>\n",
       "      <td>0.0</td>\n",
       "      <td>1.95</td>\n",
       "      <td>0.0</td>\n",
       "      <td>NaN</td>\n",
       "      <td>0.0</td>\n",
       "      <td>9.75</td>\n",
       "      <td>1</td>\n",
       "      <td>2.0</td>\n",
       "    </tr>\n",
       "    <tr>\n",
       "      <th>1</th>\n",
       "      <td>2</td>\n",
       "      <td>2015-09-01 00:04:20</td>\n",
       "      <td>2015-09-01 00:04:24</td>\n",
       "      <td>N</td>\n",
       "      <td>5</td>\n",
       "      <td>-74.010796</td>\n",
       "      <td>40.912216</td>\n",
       "      <td>-74.010780</td>\n",
       "      <td>40.912212</td>\n",
       "      <td>1</td>\n",
       "      <td>...</td>\n",
       "      <td>45.0</td>\n",
       "      <td>0.0</td>\n",
       "      <td>0.0</td>\n",
       "      <td>0.00</td>\n",
       "      <td>0.0</td>\n",
       "      <td>NaN</td>\n",
       "      <td>0.0</td>\n",
       "      <td>45.00</td>\n",
       "      <td>1</td>\n",
       "      <td>2.0</td>\n",
       "    </tr>\n",
       "    <tr>\n",
       "      <th>2</th>\n",
       "      <td>2</td>\n",
       "      <td>2015-09-01 00:01:50</td>\n",
       "      <td>2015-09-01 00:04:24</td>\n",
       "      <td>N</td>\n",
       "      <td>1</td>\n",
       "      <td>-73.921410</td>\n",
       "      <td>40.766708</td>\n",
       "      <td>-73.914413</td>\n",
       "      <td>40.764687</td>\n",
       "      <td>1</td>\n",
       "      <td>...</td>\n",
       "      <td>4.0</td>\n",
       "      <td>0.5</td>\n",
       "      <td>0.5</td>\n",
       "      <td>0.50</td>\n",
       "      <td>0.0</td>\n",
       "      <td>NaN</td>\n",
       "      <td>0.3</td>\n",
       "      <td>5.80</td>\n",
       "      <td>1</td>\n",
       "      <td>1.0</td>\n",
       "    </tr>\n",
       "    <tr>\n",
       "      <th>3</th>\n",
       "      <td>2</td>\n",
       "      <td>2015-09-01 00:02:36</td>\n",
       "      <td>2015-09-01 00:06:42</td>\n",
       "      <td>N</td>\n",
       "      <td>1</td>\n",
       "      <td>-73.921387</td>\n",
       "      <td>40.766678</td>\n",
       "      <td>-73.931427</td>\n",
       "      <td>40.771584</td>\n",
       "      <td>1</td>\n",
       "      <td>...</td>\n",
       "      <td>5.0</td>\n",
       "      <td>0.5</td>\n",
       "      <td>0.5</td>\n",
       "      <td>0.00</td>\n",
       "      <td>0.0</td>\n",
       "      <td>NaN</td>\n",
       "      <td>0.3</td>\n",
       "      <td>6.30</td>\n",
       "      <td>2</td>\n",
       "      <td>1.0</td>\n",
       "    </tr>\n",
       "    <tr>\n",
       "      <th>4</th>\n",
       "      <td>2</td>\n",
       "      <td>2015-09-01 00:00:14</td>\n",
       "      <td>2015-09-01 00:04:20</td>\n",
       "      <td>N</td>\n",
       "      <td>1</td>\n",
       "      <td>-73.955482</td>\n",
       "      <td>40.714046</td>\n",
       "      <td>-73.944412</td>\n",
       "      <td>40.714729</td>\n",
       "      <td>1</td>\n",
       "      <td>...</td>\n",
       "      <td>5.0</td>\n",
       "      <td>0.5</td>\n",
       "      <td>0.5</td>\n",
       "      <td>0.00</td>\n",
       "      <td>0.0</td>\n",
       "      <td>NaN</td>\n",
       "      <td>0.3</td>\n",
       "      <td>6.30</td>\n",
       "      <td>2</td>\n",
       "      <td>1.0</td>\n",
       "    </tr>\n",
       "  </tbody>\n",
       "</table>\n",
       "<p>5 rows × 21 columns</p>\n",
       "</div>"
      ],
      "text/plain": [
       "   VendorID lpep_pickup_datetime Lpep_dropoff_datetime Store_and_fwd_flag  \\\n",
       "0         2  2015-09-01 00:02:34   2015-09-01 00:02:38                  N   \n",
       "1         2  2015-09-01 00:04:20   2015-09-01 00:04:24                  N   \n",
       "2         2  2015-09-01 00:01:50   2015-09-01 00:04:24                  N   \n",
       "3         2  2015-09-01 00:02:36   2015-09-01 00:06:42                  N   \n",
       "4         2  2015-09-01 00:00:14   2015-09-01 00:04:20                  N   \n",
       "\n",
       "   RateCodeID  Pickup_longitude  Pickup_latitude  Dropoff_longitude  \\\n",
       "0           5        -73.979485        40.684956         -73.979431   \n",
       "1           5        -74.010796        40.912216         -74.010780   \n",
       "2           1        -73.921410        40.766708         -73.914413   \n",
       "3           1        -73.921387        40.766678         -73.931427   \n",
       "4           1        -73.955482        40.714046         -73.944412   \n",
       "\n",
       "   Dropoff_latitude  Passenger_count     ...      Fare_amount  Extra  MTA_tax  \\\n",
       "0         40.685020                1     ...              7.8    0.0      0.0   \n",
       "1         40.912212                1     ...             45.0    0.0      0.0   \n",
       "2         40.764687                1     ...              4.0    0.5      0.5   \n",
       "3         40.771584                1     ...              5.0    0.5      0.5   \n",
       "4         40.714729                1     ...              5.0    0.5      0.5   \n",
       "\n",
       "   Tip_amount  Tolls_amount  Ehail_fee  improvement_surcharge  Total_amount  \\\n",
       "0        1.95           0.0        NaN                    0.0          9.75   \n",
       "1        0.00           0.0        NaN                    0.0         45.00   \n",
       "2        0.50           0.0        NaN                    0.3          5.80   \n",
       "3        0.00           0.0        NaN                    0.3          6.30   \n",
       "4        0.00           0.0        NaN                    0.3          6.30   \n",
       "\n",
       "   Payment_type  Trip_type   \n",
       "0             1         2.0  \n",
       "1             1         2.0  \n",
       "2             1         1.0  \n",
       "3             2         1.0  \n",
       "4             2         1.0  \n",
       "\n",
       "[5 rows x 21 columns]"
      ]
     },
     "execution_count": 8,
     "metadata": {},
     "output_type": "execute_result"
    }
   ],
   "source": [
    "df.head()"
   ]
  },
  {
   "cell_type": "code",
   "execution_count": 9,
   "metadata": {},
   "outputs": [
    {
     "name": "stdout",
     "output_type": "stream",
     "text": [
      "The total rows of data is    :1494926\n",
      "The total columns of data is :21\n"
     ]
    }
   ],
   "source": [
    "print('The total rows of data is    :{}'.format(df.shape[0]))\n",
    "print('The total columns of data is :{}'.format(df.shape[1]))"
   ]
  },
  {
   "cell_type": "code",
   "execution_count": 10,
   "metadata": {},
   "outputs": [
    {
     "data": {
      "text/plain": [
       "Index(['VendorID', 'lpep_pickup_datetime', 'Lpep_dropoff_datetime',\n",
       "       'Store_and_fwd_flag', 'RateCodeID', 'Pickup_longitude',\n",
       "       'Pickup_latitude', 'Dropoff_longitude', 'Dropoff_latitude',\n",
       "       'Passenger_count', 'Trip_distance', 'Fare_amount', 'Extra', 'MTA_tax',\n",
       "       'Tip_amount', 'Tolls_amount', 'Ehail_fee', 'improvement_surcharge',\n",
       "       'Total_amount', 'Payment_type', 'Trip_type '],\n",
       "      dtype='object')"
      ]
     },
     "execution_count": 10,
     "metadata": {},
     "output_type": "execute_result"
    }
   ],
   "source": [
    "df.columns"
   ]
  },
  {
   "cell_type": "code",
   "execution_count": 11,
   "metadata": {},
   "outputs": [
    {
     "data": {
      "text/plain": [
       "VendorID                   int64\n",
       "lpep_pickup_datetime      object\n",
       "Lpep_dropoff_datetime     object\n",
       "Store_and_fwd_flag        object\n",
       "RateCodeID                 int64\n",
       "Pickup_longitude         float64\n",
       "Pickup_latitude          float64\n",
       "Dropoff_longitude        float64\n",
       "Dropoff_latitude         float64\n",
       "Passenger_count            int64\n",
       "Trip_distance            float64\n",
       "Fare_amount              float64\n",
       "Extra                    float64\n",
       "MTA_tax                  float64\n",
       "Tip_amount               float64\n",
       "Tolls_amount             float64\n",
       "Ehail_fee                float64\n",
       "improvement_surcharge    float64\n",
       "Total_amount             float64\n",
       "Payment_type               int64\n",
       "Trip_type                float64\n",
       "dtype: object"
      ]
     },
     "execution_count": 11,
     "metadata": {},
     "output_type": "execute_result"
    }
   ],
   "source": [
    "df.dtypes"
   ]
  },
  {
   "cell_type": "code",
   "execution_count": 12,
   "metadata": {},
   "outputs": [
    {
     "data": {
      "text/plain": [
       "VendorID                       0\n",
       "lpep_pickup_datetime           0\n",
       "Lpep_dropoff_datetime          0\n",
       "Store_and_fwd_flag             0\n",
       "RateCodeID                     0\n",
       "Pickup_longitude               0\n",
       "Pickup_latitude                0\n",
       "Dropoff_longitude              0\n",
       "Dropoff_latitude               0\n",
       "Passenger_count                0\n",
       "Trip_distance                  0\n",
       "Fare_amount                    0\n",
       "Extra                          0\n",
       "MTA_tax                        0\n",
       "Tip_amount                     0\n",
       "Tolls_amount                   0\n",
       "Ehail_fee                1494926\n",
       "improvement_surcharge          0\n",
       "Total_amount                   0\n",
       "Payment_type                   0\n",
       "Trip_type                      4\n",
       "dtype: int64"
      ]
     },
     "execution_count": 12,
     "metadata": {},
     "output_type": "execute_result"
    }
   ],
   "source": [
    "df.isnull().sum()"
   ]
  },
  {
   "cell_type": "code",
   "execution_count": 13,
   "metadata": {},
   "outputs": [
    {
     "name": "stdout",
     "output_type": "stream",
     "text": [
      "The columns \"Ehail_fee\" are all NaN value\n",
      "The columns \"Trip_Type\" have 4 NaN value\n"
     ]
    }
   ],
   "source": [
    "print('The columns \"Ehail_fee\" are all NaN value')\n",
    "print('The columns \"Trip_Type\" have 4 NaN value')"
   ]
  },
  {
   "cell_type": "code",
   "execution_count": 14,
   "metadata": {},
   "outputs": [
    {
     "data": {
      "text/plain": [
       "VendorID                 0\n",
       "lpep_pickup_datetime     0\n",
       "Lpep_dropoff_datetime    0\n",
       "Store_and_fwd_flag       0\n",
       "RateCodeID               0\n",
       "Pickup_longitude         0\n",
       "Pickup_latitude          0\n",
       "Dropoff_longitude        0\n",
       "Dropoff_latitude         0\n",
       "Passenger_count          0\n",
       "Trip_distance            0\n",
       "Fare_amount              0\n",
       "Extra                    0\n",
       "MTA_tax                  0\n",
       "Tip_amount               0\n",
       "Tolls_amount             0\n",
       "improvement_surcharge    0\n",
       "Total_amount             0\n",
       "Payment_type             0\n",
       "Trip_type                0\n",
       "dtype: int64"
      ]
     },
     "execution_count": 14,
     "metadata": {},
     "output_type": "execute_result"
    }
   ],
   "source": [
    "df=clean_data(df)  # remove NaN value\n",
    "\n",
    "df.isnull().sum()   # check if there is any NaN value left "
   ]
  },
  {
   "cell_type": "markdown",
   "metadata": {},
   "source": [
    "## Question 2:\n",
    "•             Plot a histogram of the number of the trip distance (“Trip Distance”).\n",
    "\n",
    "•             Report any structure you find and any hypotheses you have about that structure"
   ]
  },
  {
   "cell_type": "code",
   "execution_count": 15,
   "metadata": {},
   "outputs": [
    {
     "data": {
      "image/png": "[encoded data removed]",
      "text/plain": [
       "<Figure size 1296x432 with 2 Axes>"
      ]
     },
     "metadata": {},
     "output_type": "display_data"
    }
   ],
   "source": [
    "plot_trip_distance(trip_distance=df['Trip_distance'].values)"
   ]
  },
  {
   "cell_type": "code",
   "execution_count": 16,
   "metadata": {},
   "outputs": [
    {
     "name": "stdout",
     "output_type": "stream",
     "text": [
      "The mean of Trip_distance               is 2.97\n",
      "The median of Trip_distance             is 1.98\n",
      "The standard deviation of Trip_distance is 3.08\n",
      "Percentage of Trip_distrance < 10 is 0.96\n",
      "Percentage of Trip_distrance < 5 is 0.84\n"
     ]
    }
   ],
   "source": [
    "print('The mean of Trip_distance               is {0:.2f}'.format(df['Trip_distance'].mean(),))\n",
    "print('The median of Trip_distance             is {0:.2f}'.format(df['Trip_distance'].median()))\n",
    "print('The standard deviation of Trip_distance is {0:.2f}'.format(df['Trip_distance'].std()))\n",
    "\n",
    "\n",
    "count_10=len(df[df['Trip_distance']<10])\n",
    "count_5=len(df[df['Trip_distance']<5])\n",
    "count_all=len(df['Trip_distance'])\n",
    "\n",
    "print('Percentage of Trip_distrance < 10 is {0:.2f}'.format(count_10/count_all))\n",
    "print('Percentage of Trip_distrance < 5 is {0:.2f}'.format(count_5/count_all))"
   ]
  },
  {
   "cell_type": "markdown",
   "metadata": {},
   "source": [
    "## Comments:\n",
    "The distribution of Trip_distrance is positive skewed. 96% of the trip distance is small than 10 and 84% of the trip distance is \n",
    "smaller than 5. So the majority of trip is short trip. which make sence since most of people using taxi for convinence and emergency. "
   ]
  },
  {
   "cell_type": "markdown",
   "metadata": {},
   "source": [
    "## Question 3\n",
    " 3.1 •             Report mean and median trip distance grouped by hour of day."
   ]
  },
  {
   "cell_type": "code",
   "execution_count": 17,
   "metadata": {
    "collapsed": true
   },
   "outputs": [],
   "source": [
    "pick_date=pd.to_datetime(df['lpep_pickup_datetime'])"
   ]
  },
  {
   "cell_type": "code",
   "execution_count": 18,
   "metadata": {
    "collapsed": true
   },
   "outputs": [],
   "source": [
    "# build a new variable : hour of the day \n",
    "df['pickup_hour']=pick_date.apply(lambda x: x.hour)"
   ]
  },
  {
   "cell_type": "code",
   "execution_count": 19,
   "metadata": {
    "collapsed": true
   },
   "outputs": [],
   "source": [
    "trip_hour=df[['pickup_hour','Trip_distance']]\n",
    "trip_hour_mean=trip_hour.groupby('pickup_hour').mean()\n",
    "trip_hour_median=trip_hour.groupby('pickup_hour').median()"
   ]
  },
  {
   "cell_type": "code",
   "execution_count": 20,
   "metadata": {},
   "outputs": [
    {
     "data": {
      "text/plain": [
       "<matplotlib.legend.Legend at 0x20dd5160898>"
      ]
     },
     "execution_count": 20,
     "metadata": {},
     "output_type": "execute_result"
    },
    {
     "data": {
      "image/png": "[encoded data removed]",
      "text/plain": [
       "<Figure size 648x432 with 1 Axes>"
      ]
     },
     "metadata": {},
     "output_type": "display_data"
    }
   ],
   "source": [
    "plt.figure(figsize=(9,6))\n",
    "plt.scatter(trip_hour_mean.index,trip_hour_mean.Trip_distance,label='mean of Trip_distance each hour')\n",
    "plt.scatter(trip_hour_median.index,trip_hour_median.Trip_distance,label='median of Trip_distance each hour')\n",
    "plt.xlabel('hour of the day')\n",
    "plt.ylabel('Trip_distance')\n",
    "plt.legend()"
   ]
  },
  {
   "cell_type": "markdown",
   "metadata": {},
   "source": [
    "## Comments:\n",
    " 1,The mean and median trip distance of each hour are quite consistent. \n",
    " \n",
    " 2,The peak of Trip_distance appear between 4am-7am; which is the time of public transit stop service or served less frequently. Then trip distance start decreasing. At 17pm, the averaged trip distance is shortest. The 17 pm is the time people get off the work. After 19pm, the trip distance start increasing till 4am of next day. \n",
    " \n",
    " 3,The interesting thing is that the average trip distance of get off work (around 17 pm) is smaller than of went to work (around 8am~9am). My hypothesis is that customer took taxi might go to bar/restraunt for relaxing instead of back home directly. since Entertainment places are much closer to work place than house. so the trip distance is smaller.  "
   ]
  },
  {
   "cell_type": "code",
   "execution_count": null,
   "metadata": {
    "collapsed": true
   },
   "outputs": [],
   "source": []
  },
  {
   "cell_type": "markdown",
   "metadata": {},
   "source": [
    " 3.2 Analysis of trips that originate or terminate at one of the NYC JFK airports"
   ]
  },
  {
   "cell_type": "code",
   "execution_count": 21,
   "metadata": {},
   "outputs": [
    {
     "name": "stdout",
     "output_type": "stream",
     "text": [
      "There are 188 records about Trip originated at JFK ariport\n",
      "There are 8614 records about Trip terminated at JFK ariport\n",
      "There are total 8689 records related with JFK airport\n"
     ]
    }
   ],
   "source": [
    "# coordianate of JFK airport:\n",
    "JFK_coord=[40.6413,-73.7781]\n",
    "\n",
    "\n",
    "# the pickup and dropoff location should be in the range of 0.01 degree of air-port location\n",
    "df_jfk=df[((abs(df['Pickup_longitude']-JFK_coord[1])<0.01) & abs((df['Pickup_latitude']-JFK_coord[0])<0.01))  \n",
    "        | ((abs(df['Dropoff_longitude']-JFK_coord[1])<0.01) & abs((df['Dropoff_latitude']-JFK_coord[0])<0.01))]\n",
    "jfk_ori=df[((abs(df['Pickup_longitude']-JFK_coord[1])<0.01) & abs((df['Pickup_latitude']-JFK_coord[0])<0.01)) ]\n",
    "jfk_ter=df[((abs(df['Dropoff_longitude']-JFK_coord[1])<0.01) & abs((df['Dropoff_latitude']-JFK_coord[0])<0.01))]\n",
    "\n",
    "\n",
    "print ('There are {} records about Trip originated at JFK ariport'.format(jfk_ori.shape[0]))\n",
    "print ('There are {} records about Trip terminated at JFK ariport'.format(jfk_ter.shape[0]))\n",
    "print ('There are total {} records related with JFK airport'.format(df_jfk.shape[0]))"
   ]
  },
  {
   "cell_type": "code",
   "execution_count": 22,
   "metadata": {},
   "outputs": [
    {
     "name": "stdout",
     "output_type": "stream",
     "text": [
      "The average of Fare_amount related with JFK airport is 41.68\n"
     ]
    }
   ],
   "source": [
    "# check the Fare_amount \n",
    "jfk_mean=df_jfk.Fare_amount.mean()\n",
    "print('The average of Fare_amount related with JFK airport is {0:.2f}'.format(jfk_mean))"
   ]
  },
  {
   "cell_type": "code",
   "execution_count": 54,
   "metadata": {},
   "outputs": [],
   "source": [
    "# plot pickup location of the trip that realted with JFK airport \n",
    "plot_location_google_map(df_jfk,'jfk')"
   ]
  },
  {
   "cell_type": "code",
   "execution_count": null,
   "metadata": {},
   "outputs": [],
   "source": []
  },
  {
   "cell_type": "markdown",
   "metadata": {
    "collapsed": true
   },
   "source": [
    "## Comments:\n",
    "1, The average fare amount of trip related with JFK ariport is 41.68\n",
    "\n",
    "2, The number of trip terminated at JFK airport is much larger than originated at JFK airport. so it's more prefered to take \n",
    "taxi to JFK airport than leave airport \n",
    "\n",
    "2, For trip terminated at JFK ariport, The first 3 pickup location are the upper Manhattan, Brooklyn and williamsburg(see map:map_jfk.html); The interesting fact is that there is no records at the downtown and lower Manhattan. "
   ]
  },
  {
   "cell_type": "code",
   "execution_count": 24,
   "metadata": {},
   "outputs": [
    {
     "data": {
      "text/plain": [
       "Text(0.5,1,'Histgram of Fare_amount')"
      ]
     },
     "execution_count": 24,
     "metadata": {},
     "output_type": "execute_result"
    },
    {
     "data": {
      "image/png": "[encoded data removed]",
      "text/plain": [
       "<Figure size 648x432 with 1 Axes>"
      ]
     },
     "metadata": {},
     "output_type": "display_data"
    }
   ],
   "source": [
    "plt.figure(figsize=(9,6))\n",
    "plt.hist(df_jfk.Fare_amount,bins=100,range=(0,100));\n",
    "plt.xlabel('Fare_amount')\n",
    "plt.xticks(range(0,100,10))\n",
    "plt.ylabel('Counts')\n",
    "plt.title('Histgram of Fare_amount')"
   ]
  },
  {
   "cell_type": "markdown",
   "metadata": {},
   "source": [
    "## Comments:\n",
    "   For trip related with JFK airport,  the Fare amoutn is not Gaussian distributed. Besides the extreme large number of value between 51~53. there are two peak for Fare_amount distribution:one is at 18 fare, The other is at 42 fare; The percentage of Fare amount beyong 60 is vary small "
   ]
  },
  {
   "cell_type": "code",
   "execution_count": 25,
   "metadata": {},
   "outputs": [
    {
     "data": {
      "text/plain": [
       "Text(0.5,1,'Histogram of pickup hour for trip to JFK airport')"
      ]
     },
     "execution_count": 25,
     "metadata": {},
     "output_type": "execute_result"
    },
    {
     "data": {
      "image/png": "[encoded data removed]",
      "text/plain": [
       "<Figure size 648x432 with 1 Axes>"
      ]
     },
     "metadata": {},
     "output_type": "display_data"
    }
   ],
   "source": [
    "plt.figure(figsize=(9,6))\n",
    "plt.hist(df_jfk['pickup_hour'],bins=24);\n",
    "plt.xlabel('hour of a day')\n",
    "plt.ylabel('counts')\n",
    "plt.title('Histogram of pickup hour for trip to JFK airport')\n"
   ]
  },
  {
   "cell_type": "markdown",
   "metadata": {},
   "source": [
    "## Comments: \n",
    "For trip related with JFK airport, most of pick up happened between 4am-21pm. And there are two peak: one is at 6am~9am and the other is at 15pm~18pm. The second peak are quite closed to hotel check out time. "
   ]
  },
  {
   "cell_type": "code",
   "execution_count": 26,
   "metadata": {},
   "outputs": [
    {
     "name": "stdout",
     "output_type": "stream",
     "text": [
      "The count of passenger_count is 8 is [1]\n",
      "---------------------------------------------\n"
     ]
    },
    {
     "data": {
      "image/png": "[encoded data removed]",
      "text/plain": [
       "<Figure size 648x216 with 2 Axes>"
      ]
     },
     "metadata": {},
     "output_type": "display_data"
    }
   ],
   "source": [
    "passenger_count_plot(df_jfk)"
   ]
  },
  {
   "cell_type": "markdown",
   "metadata": {},
   "source": [
    "## Comments: \n",
    "1,The plot above show that most of trip only have 1 passenger; \n",
    "\n",
    "2, The trip distance is quite same for different passenger_count; so there two feature are not related\n",
    "\n",
    "3, There are only one record about passenger_count is 8, and trip distance is 0, so this might be anomal sample"
   ]
  },
  {
   "cell_type": "code",
   "execution_count": 27,
   "metadata": {},
   "outputs": [
    {
     "data": {
      "image/png": "[encoded data removed]",
      "text/plain": [
       "<Figure size 864x288 with 2 Axes>"
      ]
     },
     "metadata": {},
     "output_type": "display_data"
    }
   ],
   "source": [
    "## plot Payment type and Trip type\n",
    "plot_trip_payment_type(df_jfk)"
   ]
  },
  {
   "cell_type": "markdown",
   "metadata": {},
   "source": [
    "## Comments:\n",
    " 1, 66% trip were paid with Type 1, 34.1% trip paid with Type 2 method. \n",
    " \n",
    " 2, 93.5% of trip belong to Type 1.0 and only 6.5% trip belong to Type 2.0."
   ]
  },
  {
   "cell_type": "code",
   "execution_count": null,
   "metadata": {
    "collapsed": true
   },
   "outputs": [],
   "source": []
  },
  {
   "cell_type": "markdown",
   "metadata": {},
   "source": [
    "## Question 4: \n",
    "•             Build a derived variable for tip as a percentage of the total fare.\n",
    "\n",
    "•             Build a predictive model for tip as a percentage of the total fare. Use as much of the data as you like (or all of it). Provide an estimate of performance using an appropriate sample, and show your work."
   ]
  },
  {
   "cell_type": "code",
   "execution_count": 28,
   "metadata": {
    "collapsed": true
   },
   "outputs": [],
   "source": [
    "# build tip percentage of the total fare \n",
    "df_feature=feature_eng(df)"
   ]
  },
  {
   "cell_type": "code",
   "execution_count": 29,
   "metadata": {
    "collapsed": true
   },
   "outputs": [],
   "source": [
    "# divide data into feature and target \n",
    "y=df_feature.iloc[:,-1].values.reshape(-1,1)\n",
    "x=df_feature.iloc[:,:-1].values"
   ]
  },
  {
   "cell_type": "code",
   "execution_count": 30,
   "metadata": {
    "collapsed": true
   },
   "outputs": [],
   "source": [
    "train_x,test_x,train_y,test_y=train_test_split(x,y,test_size=0.2,random_state=100)"
   ]
  },
  {
   "cell_type": "code",
   "execution_count": 31,
   "metadata": {},
   "outputs": [
    {
     "name": "stdout",
     "output_type": "stream",
     "text": [
      "Score of 5 fold cross validation of linear regression model [-17.70707986 -17.42970584 -17.23000114 -20.20340149 -17.20936483]\n"
     ]
    }
   ],
   "source": [
    "y_pre_LR=linear_model(x,y)"
   ]
  },
  {
   "cell_type": "code",
   "execution_count": 32,
   "metadata": {},
   "outputs": [
    {
     "name": "stdout",
     "output_type": "stream",
     "text": [
      "Score of 5 fold cross validation of Lasso regression model [-19.68383814 -19.53887998 -19.49299536 -23.66933348 -19.57170245]\n"
     ]
    }
   ],
   "source": [
    "lasso_model(x,y)"
   ]
  },
  {
   "cell_type": "code",
   "execution_count": 33,
   "metadata": {},
   "outputs": [
    {
     "name": "stdout",
     "output_type": "stream",
     "text": [
      "Score of 5 fold of cross validation of Randomforest regression model [-0.07288399 -0.01764655 -0.02868336 -0.01079953 -0.0310289 ]\n"
     ]
    }
   ],
   "source": [
    "y_pre_rf, RF=Randomforest_model(x,y,5)"
   ]
  },
  {
   "cell_type": "code",
   "execution_count": 34,
   "metadata": {
    "scrolled": true
   },
   "outputs": [
    {
     "data": {
      "image/png": "[encoded data removed]",
      "text/plain": [
       "<Figure size 864x648 with 2 Axes>"
      ]
     },
     "metadata": {},
     "output_type": "display_data"
    }
   ],
   "source": [
    "plt.figure(figsize=(12,9))\n",
    "plt.subplot(2,1,1)\n",
    "plt.plot(range(298986),abs(test_y-y_pre_LR),color='black')\n",
    "plt.xlabel('index of test_x')\n",
    "plt.ylabel('Absoluate error of Tip percentage')\n",
    "plt.title('Absuluate error of linear regression model')\n",
    "\n",
    "\n",
    "plt.subplot(2,1,2)\n",
    "plt.plot(range(298986),abs(test_y-y_pre_rf.reshape(-1,1)),color='red')\n",
    "plt.xlabel('index of test_x')\n",
    "plt.ylabel('Absoluate error of Tip percentage')\n",
    "plt.title('Absuluate error of randomforest regression model');"
   ]
  },
  {
   "cell_type": "code",
   "execution_count": 35,
   "metadata": {},
   "outputs": [
    {
     "data": {
      "text/plain": [
       "Text(0.5,1,'Histgram of tip percentage')"
      ]
     },
     "execution_count": 35,
     "metadata": {},
     "output_type": "execute_result"
    },
    {
     "data": {
      "image/png": "[encoded data removed]",
      "text/plain": [
       "<Figure size 288x216 with 1 Axes>"
      ]
     },
     "metadata": {},
     "output_type": "display_data"
    }
   ],
   "source": [
    "plt.figure(figsize=(4,3))\n",
    "plt.hist(df_feature['tip_over_fare(%)'],bins=50)\n",
    "plt.xlabel('tip percentae')\n",
    "plt.ylabel('counts')\n",
    "plt.title('Histgram of tip percentage')"
   ]
  },
  {
   "cell_type": "code",
   "execution_count": 36,
   "metadata": {},
   "outputs": [
    {
     "name": "stdout",
     "output_type": "stream",
     "text": [
      "largest mispredict test sample\n",
      "The Trip_distance is 9.7\n",
      "The Fare_amount is 0.0\n",
      "The Extra is 0.0\n",
      "The MTA_tax is 0.0\n",
      "The Tip_amount is 1.1\n",
      "The Tolls_amount is 5.54\n"
     ]
    }
   ],
   "source": [
    "# The plot of randomforest error show that there are one sample of predict error is much larger than average error  \n",
    "# so check  whether the largest error caused by anomal data or model \n",
    "\n",
    "#check the largest predict error from Randomforest model \n",
    "\n",
    "error_rf=abs(test_y-y_pre_rf.reshape(-1,1))\n",
    "index_large_error=[]\n",
    "for i in range(len(error_rf)):\n",
    "    if error_rf[i]>40:\n",
    "        index_large_error.append(i)\n",
    "        \n",
    "feature=df_feature.columns\n",
    "feature_number=test_x[index_large_error[0]]\n",
    "print('largest mispredict test sample')\n",
    "for i in range(7,13):\n",
    "    print('The {} is {}'.format(feature[i],feature_number[i]))"
   ]
  },
  {
   "cell_type": "code",
   "execution_count": 37,
   "metadata": {},
   "outputs": [
    {
     "data": {
      "image/png": "[encoded data removed]",
      "text/plain": [
       "<Figure size 432x288 with 1 Axes>"
      ]
     },
     "metadata": {},
     "output_type": "display_data"
    }
   ],
   "source": [
    "# check feature importance \n",
    "\n",
    "feature_importance=pd.DataFrame({'feature':df_feature.columns[:-1],'feature_importance':RF.feature_importances_})\n",
    "sort_feature=feature_importance.sort_values(by=['feature_importance'],ascending=False)[:5]\n",
    "\n",
    "\n",
    "plt.bar(range(1,len(sort_feature.feature)+1),sort_feature.feature_importance, align='center')\n",
    "plt.ylabel('feature_importance')\n",
    "plt.title('feature importance of Randomforest Regressor')\n",
    "ax=plt.gca()\n",
    "ax.set_xticks(range(1,len(sort_feature.feature)+1))\n",
    "ax.set_xticklabels(sort_feature.feature,rotation=70);"
   ]
  },
  {
   "cell_type": "markdown",
   "metadata": {},
   "source": [
    "## Comments: \n",
    "1, The error of tip percentage for linear regression model is around 17% except 4th fold is 20%\n",
    "\n",
    "2, The error of tip percentage for randomforest regression model is around 2% except 1st fold is 8%\n",
    "\n",
    "3, So the randomforest regression model perform better than linear regression model. The reason is that the variable of tip over \n",
    "fare percentage is not Gaussion distributed. So i choose Randomforest regressor model \n",
    "\n",
    "4, Based on cross validation results, the randomforest model is stable, and not over fit. \n",
    "\n",
    "5, The redual plot show that there are one huge error for Randomforest regression model. For this sample(output of in[37]), the trip distance is 9.7 which is larger than 96% of the trip_distance, while the fare only 0.0. So i conclude this smaple are anomal \n",
    "\n",
    "6, The first 3 features based on importance are Tip_amount, Fare_amount, Total_amount, "
   ]
  },
  {
   "cell_type": "markdown",
   "metadata": {},
   "source": [
    "## Question 5: \n",
    "•             Option A: Distributions\n",
    "\n",
    "•             Build a derived variable representing the average speed over the course of a trip.\n",
    "\n",
    "•             Can you perform a test to determine if the average trip speeds are materially the same in all weeks of September? If you decide they are not the same, can you form a hypothesis regarding why they differ?\n",
    "\n",
    "•             Can you build up a hypothesis of average trip speed as a function of time of day"
   ]
  },
  {
   "cell_type": "code",
   "execution_count": 38,
   "metadata": {
    "collapsed": true
   },
   "outputs": [],
   "source": [
    "# build the variable:speed, the units is units of trip_distance/second\n",
    "\n",
    "df_speed=speed_feature(df)"
   ]
  },
  {
   "cell_type": "code",
   "execution_count": 39,
   "metadata": {
    "collapsed": true
   },
   "outputs": [],
   "source": [
    "# divide the september into 5 group based on week of the year\n",
    "\n",
    "week1=df_speed['speed'][df_speed['week_of_month']==36]\n",
    "week2=df_speed['speed'][df_speed['week_of_month']==37]\n",
    "week3=df_speed['speed'][df_speed['week_of_month']==38]\n",
    "week4=df_speed['speed'][df_speed['week_of_month']==39]\n",
    "week5=df_speed['speed'][df_speed['week_of_month']==40]"
   ]
  },
  {
   "cell_type": "code",
   "execution_count": 40,
   "metadata": {},
   "outputs": [
    {
     "name": "stdout",
     "output_type": "stream",
     "text": [
      "Reject the hypothesis: H0: the mean of all weeks are same\n"
     ]
    }
   ],
   "source": [
    "mean_test(week1,week2,week3,week4,week5,0.05)"
   ]
  },
  {
   "cell_type": "code",
   "execution_count": 41,
   "metadata": {},
   "outputs": [
    {
     "name": "stdout",
     "output_type": "stream",
     "text": [
      "The mean speed of 1st week is 0.0044\n",
      "The mean speed of 2nd week is 0.0043\n",
      "The mean speed of 3rd week is 0.0042\n",
      "The mean speed of 4th week is 0.0045\n",
      "The mean speed of 5th week is 0.0047\n"
     ]
    }
   ],
   "source": [
    "weeks=['1st','2nd','3rd','4th','5th']\n",
    "for i in range(5):\n",
    "    print('The mean speed of {0} week is {1:.4f}'.format(weeks[i],df_speed['speed'][df_speed['week_of_month']==(i+36)].mean()))"
   ]
  },
  {
   "cell_type": "markdown",
   "metadata": {},
   "source": [
    "## Comment:\n",
    "1,The One-way ANOVA test show that mean of the speed of all weeks of september are different.\n",
    "\n",
    "2,The speed of all weeks of september are different. The speed of 2nd and 3rd of week are smaller than other weeks.  The 2nd week \n",
    " have holiday like Labor day, 9-11 memorial day, i assume the holiday might be one reason of low average speed. as figure below ('average speed of each day of Septemper') show that at 9-10 and 9-11 (9-11 memorial day), the average speed is lowest "
   ]
  },
  {
   "cell_type": "code",
   "execution_count": 42,
   "metadata": {},
   "outputs": [
    {
     "data": {
      "text/plain": [
       "Text(0.5,1,'average speed of each day of Septemper')"
      ]
     },
     "execution_count": 42,
     "metadata": {},
     "output_type": "execute_result"
    },
    {
     "data": {
      "image/png": "[encoded data removed]",
      "text/plain": [
       "<Figure size 432x288 with 1 Axes>"
      ]
     },
     "metadata": {},
     "output_type": "display_data"
    }
   ],
   "source": [
    "day_speed=df_speed[['day_of_month','speed']].groupby('day_of_month').mean()\n",
    "\n",
    "plt.scatter(day_speed.index,day_speed.speed)\n",
    "ymin=min(day_speed.speed)-0.005\n",
    "ymax=max(day_speed.speed)+0.005\n",
    "plt.ylim([ymin,ymax])\n",
    "plt.xlabel('day of the September')\n",
    "plt.ylabel('average speed')\n",
    "plt.title('average speed of each day of Septemper')"
   ]
  },
  {
   "cell_type": "code",
   "execution_count": 43,
   "metadata": {
    "collapsed": true
   },
   "outputs": [],
   "source": [
    "speed_week=df_speed[['pickup_hour','speed']]\n",
    "\n",
    "swm=speed_week.groupby('pickup_hour').mean()"
   ]
  },
  {
   "cell_type": "code",
   "execution_count": 44,
   "metadata": {},
   "outputs": [
    {
     "data": {
      "text/plain": [
       "Text(0.5,1,'Mean of the speed of each hour of a day')"
      ]
     },
     "execution_count": 44,
     "metadata": {},
     "output_type": "execute_result"
    },
    {
     "data": {
      "image/png": "[encoded data removed]",
      "text/plain": [
       "<Figure size 432x288 with 1 Axes>"
      ]
     },
     "metadata": {},
     "output_type": "display_data"
    }
   ],
   "source": [
    "plt.scatter(swm.index,swm.speed)\n",
    "ymin=min(swm.speed)-0.005\n",
    "ymax=max(swm.speed)+0.005\n",
    "plt.ylim([ymin,ymax])\n",
    "plt.xlabel('hour of a day')\n",
    "plt.ylabel('speed')\n",
    "plt.title('Mean of the speed of each hour of a day')"
   ]
  },
  {
   "cell_type": "markdown",
   "metadata": {},
   "source": [
    "## Comments:\n",
    "Hypothesis of speed as hour of a day :The largest speed appear between 4am~6am. which is the time period have lightest trafic. The the speed quick drop betwwen 7am~9am, and this is the time people go to wrok. Druing the work of a day 10am~15pm, the average speed slight went up. After work, from 18pm to 4 am of next day, the average speed linear increasing. \n",
    "\n",
    "\n",
    "While the speed is highly dependent on tracfic, which related with hour of a day and also route. so i will explore the model of speed with pickup, dropoff location and time of a day. "
   ]
  },
  {
   "cell_type": "code",
   "execution_count": 45,
   "metadata": {
    "collapsed": true
   },
   "outputs": [],
   "source": [
    "variable=['Pickup_latitude','Pickup_longitude','Dropoff_longitude','Dropoff_latitude','pickup_hour']\n",
    "\n",
    "speed_x=df_speed[variable].values\n",
    "\n",
    "# convert speed into per hour\n",
    "speed_y=df_speed['speed'].values*3600"
   ]
  },
  {
   "cell_type": "code",
   "execution_count": 46,
   "metadata": {},
   "outputs": [
    {
     "data": {
      "text/plain": [
       "Text(0.5,1,'histogram of speed')"
      ]
     },
     "execution_count": 46,
     "metadata": {},
     "output_type": "execute_result"
    },
    {
     "data": {
      "image/png": "[encoded data removed]",
      "text/plain": [
       "<Figure size 1080x216 with 2 Axes>"
      ]
     },
     "metadata": {},
     "output_type": "display_data"
    }
   ],
   "source": [
    "plt.figure(figsize=(15,3))\n",
    "plt.subplot(121)\n",
    "plt.hist(speed_y,bins=100,range=(0,50));\n",
    "plt.xlabel('speed per hour')\n",
    "plt.ylabel('Count')\n",
    "plt.title('histogram of speed')\n",
    "plt.subplot(122)\n",
    "plt.hist(speed_y,bins=100);\n",
    "plt.xlabel('speed per hour')\n",
    "plt.ylabel('Count')\n",
    "plt.title('histogram of speed')"
   ]
  },
  {
   "cell_type": "markdown",
   "metadata": {},
   "source": [
    "## Comments: \n",
    "The data speed_per_hour is slightly positive skewed Gaussian distribution except speed of 0. I assume trip_distance unit is km. so the velocity >50km/hour is not reasonable. These part of data are anomaly. so remove this part before model training. "
   ]
  },
  {
   "cell_type": "code",
   "execution_count": 47,
   "metadata": {},
   "outputs": [
    {
     "name": "stderr",
     "output_type": "stream",
     "text": [
      "c:\\program files\\python36\\lib\\site-packages\\numpy\\core\\fromnumeric.py:57: FutureWarning: reshape is deprecated and will raise in a subsequent release. Please use .values.reshape(...) instead\n",
      "  return getattr(obj, method)(*args, **kwds)\n"
     ]
    },
    {
     "data": {
      "image/png": "[encoded data removed]",
      "text/plain": [
       "<Figure size 1440x864 with 5 Axes>"
      ]
     },
     "metadata": {},
     "output_type": "display_data"
    }
   ],
   "source": [
    "variable=['Pickup_latitude','Pickup_longitude','Dropoff_longitude','Dropoff_latitude','pickup_hour','speed']\n",
    "speed_model=df_speed[variable]\n",
    "plot_speed_time_location(speed_model)"
   ]
  },
  {
   "cell_type": "markdown",
   "metadata": {},
   "source": [
    "## Comments: \n",
    "1, The histogram of pickup_latitude and drop_off latitude are closed to uniformly distribtuted;\n",
    "\n",
    "2, The histogram of pickup_longtitude and dropoff longtidutite are more focused on -74~-73.9. \n",
    "\n",
    "2, The histogram of pickup_hour indicate that between 21pm ~6am, the number of fast_speed (blue) is much larger than number of slow_speed (red), While at 15pm, the number of slow_speed is larger than number of fast speed. this is consistent with plot of average_speed of each hour of a day (out[45])\n",
    "\n",
    "3, My assumption is that the pickup_hour is most important factor for determining speed. "
   ]
  },
  {
   "cell_type": "code",
   "execution_count": 48,
   "metadata": {
    "collapsed": true
   },
   "outputs": [],
   "source": [
    "# using adaboost ensembel model to explore the assumption in last comment:\n",
    "\n",
    "variable=['Pickup_latitude','Pickup_longitude','Dropoff_latitude','Dropoff_longitude','pickup_hour','speed']\n",
    "\n",
    "speed_model=df_speed[variable]\n",
    "speed_anormal=speed_model[speed_model['speed']>50/3600]\n",
    "speed_normal=speed_model[speed_model['speed']<=50/3600]\n",
    "\n",
    "speed_x=speed_normal.iloc[:,:-1].values\n",
    "speed_y=speed_normal.iloc[:,-1].values*3600"
   ]
  },
  {
   "cell_type": "code",
   "execution_count": 49,
   "metadata": {
    "collapsed": true
   },
   "outputs": [],
   "source": [
    "train_speed_x,test_speed_x,train_speed_y,test_speed_y=train_test_split(speed_x,speed_y,test_size=0.2,random_state=100)"
   ]
  },
  {
   "cell_type": "code",
   "execution_count": 50,
   "metadata": {},
   "outputs": [
    {
     "data": {
      "text/plain": [
       "AdaBoostRegressor(base_estimator=None, learning_rate=1.0, loss='linear',\n",
       "         n_estimators=50, random_state=None)"
      ]
     },
     "execution_count": 50,
     "metadata": {},
     "output_type": "execute_result"
    }
   ],
   "source": [
    "lm_speed=AdaBoostRegressor()\n",
    "lm_speed.fit(train_speed_x,train_speed_y)"
   ]
  },
  {
   "cell_type": "code",
   "execution_count": 51,
   "metadata": {
    "collapsed": true
   },
   "outputs": [],
   "source": [
    "y_predict_speed=lm_speed.predict(test_speed_x)"
   ]
  },
  {
   "cell_type": "code",
   "execution_count": 52,
   "metadata": {},
   "outputs": [
    {
     "name": "stdout",
     "output_type": "stream",
     "text": [
      "The mean square error is 39.83\n"
     ]
    }
   ],
   "source": [
    "print('The mean square error is {0:.2f}'.format(mean_squared_error(test_speed_y,y_predict_speed)))"
   ]
  },
  {
   "cell_type": "code",
   "execution_count": 53,
   "metadata": {},
   "outputs": [
    {
     "name": "stdout",
     "output_type": "stream",
     "text": [
      "The feature importance of Pickup_latitude of adaboost model is 0.12\n",
      "The feature importance of Pickup_longitude of adaboost model is 0.24\n",
      "The feature importance of Dropoff_latitude of adaboost model is 0.14\n",
      "The feature importance of Dropoff_longitude of adaboost model is 0.36\n",
      "The feature importance of pickup_hour of adaboost model is 0.14\n"
     ]
    }
   ],
   "source": [
    "for i in range(5):\n",
    "    print('The feature importance of {0} of adaboost model is {1:.2f}'.format(variable[i],lm_speed.feature_importances_[i]))\n"
   ]
  },
  {
   "cell_type": "markdown",
   "metadata": {},
   "source": [
    "## Comments: \n",
    "1, The error of speed of test data is 37.04, while range of speed is 0~50. so the model performance not very well. The feature show that most important feature is dropoff_long, which rejected my assumption in last comments. I assume the reason behind this is the pickup, dropoff location and pickup_hour are not indenpent variable . The feature engineer need to be reconsidered for building speed model \n"
   ]
  },
  {
   "cell_type": "code",
   "execution_count": null,
   "metadata": {
    "collapsed": true
   },
   "outputs": [],
   "source": []
  }
 ],
 "metadata": {
  "kernelspec": {
   "display_name": "Python 3",
   "language": "python",
   "name": "python3"
  },
  "language_info": {
   "codemirror_mode": {
    "name": "ipython",
    "version": 3
   },
   "file_extension": ".py",
   "mimetype": "text/x-python",
   "name": "python",
   "nbconvert_exporter": "python",
   "pygments_lexer": "ipython3",
   "version": "3.6.1"
  }
 },
 "nbformat": 4,
 "nbformat_minor": 2
}
